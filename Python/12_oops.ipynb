{
 "cells": [
  {
   "cell_type": "markdown",
   "id": "deb436b9",
   "metadata": {},
   "source": [
    "## opps concept in python"
   ]
  },
  {
   "cell_type": "code",
   "execution_count": 1,
   "id": "a3ef033b",
   "metadata": {},
   "outputs": [],
   "source": [
    "# local variable\n",
    "# global variable\n",
    "# polymorphism\n",
    "# inheritance\n",
    "# encapsulation\n",
    "# abstraction"
   ]
  },
  {
   "cell_type": "code",
   "execution_count": 2,
   "id": "053a5956",
   "metadata": {},
   "outputs": [],
   "source": [
    "class class_name:\n",
    "    pass\n",
    "#  class_name >>>> is class name\n",
    "# pass >>>> is a keyword and place holder\n",
    "# class is a keyword\n"
   ]
  },
  {
   "cell_type": "code",
   "execution_count": 3,
   "id": "017223e6",
   "metadata": {},
   "outputs": [
    {
     "name": "stdout",
     "output_type": "stream",
     "text": [
      "my name is Rahul and my age is 20\n"
     ]
    }
   ],
   "source": [
    "class Student:\n",
    "    name=\"Rahul\"  # class variable\n",
    "    age=20 # class variable\n",
    "    print(f\"my name is {name} and my age is {age}\")\n",
    "obj_student=Student()"
   ]
  },
  {
   "cell_type": "code",
   "execution_count": 4,
   "id": "6b69ba6c",
   "metadata": {},
   "outputs": [
    {
     "data": {
      "text/plain": [
       "'Rahul'"
      ]
     },
     "execution_count": 4,
     "metadata": {},
     "output_type": "execute_result"
    }
   ],
   "source": [
    "obj_student.name"
   ]
  },
  {
   "cell_type": "code",
   "execution_count": 5,
   "id": "fbee36a2",
   "metadata": {},
   "outputs": [
    {
     "data": {
      "text/plain": [
       "20"
      ]
     },
     "execution_count": 5,
     "metadata": {},
     "output_type": "execute_result"
    }
   ],
   "source": [
    "obj_student.age"
   ]
  },
  {
   "cell_type": "code",
   "execution_count": 6,
   "id": "7b1bea4e",
   "metadata": {},
   "outputs": [],
   "source": [
    "class Student:\n",
    "    name=\"Manoj\"\n",
    "    age=20\n",
    "    def info(self): # method \n",
    "        # self is a keyword or object\n",
    "        print(\"this is my first method\")\n",
    "              \n",
    "ob=Student()"
   ]
  },
  {
   "cell_type": "code",
   "execution_count": 7,
   "id": "176937e3",
   "metadata": {},
   "outputs": [
    {
     "name": "stdout",
     "output_type": "stream",
     "text": [
      "this is my first method\n"
     ]
    }
   ],
   "source": [
    "ob.info()"
   ]
  },
  {
   "cell_type": "code",
   "execution_count": 8,
   "id": "7a88ef67",
   "metadata": {},
   "outputs": [],
   "source": [
    "class Student:\n",
    "    name=\"Manoj\"\n",
    "    age=20\n",
    "    def info(self): # method \n",
    "        # self is a keyword or object\n",
    "        print(\"this is my first method\")\n",
    "        print(f\"my name is {self.name} and my age is {self.age}\")\n",
    "              \n",
    "ob=Student()"
   ]
  },
  {
   "cell_type": "code",
   "execution_count": 9,
   "id": "90c5a4c7",
   "metadata": {},
   "outputs": [
    {
     "name": "stdout",
     "output_type": "stream",
     "text": [
      "this is my first method\n",
      "my name is Manoj and my age is 20\n"
     ]
    }
   ],
   "source": [
    "ob.info()"
   ]
  },
  {
   "cell_type": "markdown",
   "id": "481838b8",
   "metadata": {},
   "source": [
    "# inheritance\n",
    "## types of inheritance\n",
    "* single \n",
    "* multiple\n",
    "* multilevel\n",
    "* heirarichal\n",
    "* hybrid"
   ]
  },
  {
   "cell_type": "code",
   "execution_count": 10,
   "id": "f0782b19",
   "metadata": {},
   "outputs": [],
   "source": [
    "# class College:\n",
    "#     pass\n",
    "\n",
    "# class Student: \n",
    "#     pass\n"
   ]
  },
  {
   "cell_type": "markdown",
   "id": "af0f1d02",
   "metadata": {},
   "source": [
    "### single inheritance"
   ]
  },
  {
   "cell_type": "code",
   "execution_count": 11,
   "id": "ac289b8e",
   "metadata": {},
   "outputs": [
    {
     "name": "stdout",
     "output_type": "stream",
     "text": [
      "Rahul\n",
      "111\n",
      "MITS\n",
      "Jadan\n"
     ]
    }
   ],
   "source": [
    "class College:\n",
    "    pass\n",
    "    college=\"MITS\"\n",
    "    collegeAddress=\"Jadan\"\n",
    "    def info(self):\n",
    "        print(self.college)\n",
    "        print(self.collegeAddress)\n",
    "class Student(College):  # inheritance\n",
    "    stuname=\"Rahul\"\n",
    "    stu_id=111\n",
    "ob=Student()\n",
    "print(ob.stuname)\n",
    "print(ob.stu_id)\n",
    "print(ob.college)\n",
    "print(ob.collegeAddress)"
   ]
  },
  {
   "cell_type": "code",
   "execution_count": 12,
   "id": "02957396",
   "metadata": {},
   "outputs": [
    {
     "name": "stdout",
     "output_type": "stream",
     "text": [
      "MITS\n",
      "Jadan\n"
     ]
    }
   ],
   "source": [
    "ob.info()"
   ]
  },
  {
   "cell_type": "markdown",
   "id": "66437ce6",
   "metadata": {},
   "source": [
    "# multiple inheritance"
   ]
  },
  {
   "cell_type": "code",
   "execution_count": 13,
   "id": "f8948e78",
   "metadata": {},
   "outputs": [
    {
     "name": "stdout",
     "output_type": "stream",
     "text": [
      "Deepak\n",
      "50\n",
      "Rajesh\n"
     ]
    }
   ],
   "source": [
    "class Father:\n",
    "    fatherName=\"Deepak\"\n",
    "    fatherAge=50\n",
    "class Uncle:\n",
    "    uncleNme=\"Rajesh\"\n",
    "class Child(Father,Uncle):\n",
    "    pass  # multiple inheritance\n",
    "ob= Child()\n",
    "print(ob.fatherName)\n",
    "print(ob.fatherAge)\n",
    "print(ob.uncleNme)\n"
   ]
  },
  {
   "cell_type": "markdown",
   "id": "d60bc89c",
   "metadata": {},
   "source": [
    "# multilevel"
   ]
  },
  {
   "cell_type": "code",
   "execution_count": 14,
   "id": "3326eb62",
   "metadata": {},
   "outputs": [
    {
     "name": "stdout",
     "output_type": "stream",
     "text": [
      "Karan\n",
      "75\n",
      "Deepak\n",
      "50\n"
     ]
    }
   ],
   "source": [
    "class GrandFather:\n",
    "    pass\n",
    "    grandFatherName=\"Karan\"\n",
    "    grandFatherAge=75\n",
    "class Father(GrandFather):\n",
    "    pass\n",
    "    fatherName=\"Deepak\"\n",
    "    fatherAge=50\n",
    "class You(Father):\n",
    "    pass\n",
    "ob=You()\n",
    "print(ob.grandFatherName)\n",
    "print(ob.grandFatherAge)\n",
    "print(ob.fatherName)\n",
    "print(ob.fatherAge)"
   ]
  },
  {
   "cell_type": "markdown",
   "id": "a0a83acb",
   "metadata": {},
   "source": [
    "# polymorphism"
   ]
  },
  {
   "cell_type": "code",
   "execution_count": 15,
   "id": "4fa4d8af",
   "metadata": {},
   "outputs": [
    {
     "name": "stdout",
     "output_type": "stream",
     "text": [
      "[1, 2, 3, 4, 5]\n"
     ]
    }
   ],
   "source": [
    "lst=[1,2,3,4,5]\n",
    "print(lst)"
   ]
  },
  {
   "cell_type": "code",
   "execution_count": 16,
   "id": "5fa27e1a",
   "metadata": {},
   "outputs": [
    {
     "data": {
      "text/plain": [
       "list"
      ]
     },
     "execution_count": 16,
     "metadata": {},
     "output_type": "execute_result"
    }
   ],
   "source": [
    "type(lst)"
   ]
  },
  {
   "cell_type": "code",
   "execution_count": 17,
   "metadata": {},
   "outputs": [
    {
     "data": {
      "text/plain": [
       "str"
      ]
     },
     "execution_count": 17,
     "metadata": {},
     "output_type": "execute_result"
    }
   ],
   "source": [
    "type(\"hello\")"
   ]
  },
  {
   "cell_type": "markdown",
   "id": "53c9bbba",
   "metadata": {},
   "source": [
    "# heirarichal inheritance"
   ]
  },
  {
   "cell_type": "code",
   "execution_count": 18,
   "id": "5cad4610",
   "metadata": {},
   "outputs": [
    {
     "name": "stdout",
     "output_type": "stream",
     "text": [
      "This animal eats food.\n",
      "Dog barks.\n",
      "This animal eats food.\n",
      "Cat meows.\n"
     ]
    }
   ],
   "source": [
    "class Animal:\n",
    "    def eat(self):\n",
    "        print(\"This animal eats food.\")\n",
    "\n",
    "class Dog(Animal):\n",
    "    def bark(self):\n",
    "        print(\"Dog barks.\")\n",
    "\n",
    "class Cat(Animal):\n",
    "    def meow(self):\n",
    "        print(\"Cat meows.\")\n",
    "\n",
    "d = Dog()\n",
    "d.eat()\n",
    "d.bark()\n",
    "\n",
    "c = Cat()\n",
    "c.eat()\n",
    "c.meow()\n"
   ]
  },
  {
   "cell_type": "markdown",
   "id": "3fc8178f",
   "metadata": {},
   "source": [
    "# hybrid inheritance"
   ]
  },
  {
   "cell_type": "code",
   "execution_count": 19,
   "id": "be6ff755",
   "metadata": {},
   "outputs": [
    {
     "name": "stdout",
     "output_type": "stream",
     "text": [
      "I am a person.\n",
      "I am a student.\n",
      "I am a Teaching Assistant.\n",
      "I am a teacher.\n"
     ]
    }
   ],
   "source": [
    "class Person:\n",
    "    def show_person(self):\n",
    "        print(\"I am a person.\")\n",
    "\n",
    "class Student(Person):\n",
    "    def show_student(self):\n",
    "        print(\"I am a student.\")\n",
    "\n",
    "class Teacher(Person):\n",
    "    def show_teacher(self):\n",
    "        print(\"I am a teacher.\")\n",
    "\n",
    "class TA(Student, Teacher):\n",
    "    def show_ta(self):\n",
    "        print(\"I am a Teaching Assistant.\")\n",
    "\n",
    "t1 = TA()\n",
    "Student.show_person(t1)  \n",
    "t1.show_student()\n",
    "t1.show_ta()\n",
    "t1.show_teacher()\n"
   ]
  },
  {
   "cell_type": "markdown",
   "id": "0bf9d8ea",
   "metadata": {},
   "source": [
    "# encapsulation\n",
    "### private \n",
    "### public \n",
    "### protected"
   ]
  },
  {
   "cell_type": "code",
   "execution_count": 20,
   "id": "b4c25233",
   "metadata": {},
   "outputs": [],
   "source": [
    "class Student:\n",
    "   __name=\"Rahul\"   #private\n",
    "   age=20   #public\n",
    "   _id = \"111\"   #protected\n",
    "st=Student() "
   ]
  },
  {
   "cell_type": "code",
   "execution_count": 21,
   "id": "3330cfd8",
   "metadata": {},
   "outputs": [
    {
     "data": {
      "text/plain": [
       "20"
      ]
     },
     "execution_count": 21,
     "metadata": {},
     "output_type": "execute_result"
    }
   ],
   "source": [
    "st.age"
   ]
  },
  {
   "cell_type": "code",
   "execution_count": 22,
   "id": "25621150",
   "metadata": {},
   "outputs": [
    {
     "data": {
      "text/plain": [
       "'111'"
      ]
     },
     "execution_count": 22,
     "metadata": {},
     "output_type": "execute_result"
    }
   ],
   "source": [
    "st._id"
   ]
  },
  {
   "cell_type": "code",
   "execution_count": 23,
   "id": "78f1354a",
   "metadata": {},
   "outputs": [],
   "source": [
    "# st.__name   wrong way"
   ]
  },
  {
   "cell_type": "code",
   "execution_count": 24,
   "id": "77a98824",
   "metadata": {},
   "outputs": [
    {
     "data": {
      "text/plain": [
       "'Rahul'"
      ]
     },
     "execution_count": 24,
     "metadata": {},
     "output_type": "execute_result"
    }
   ],
   "source": [
    "st._Student__name  # accessing private variable using class name"
   ]
  },
  {
   "cell_type": "markdown",
   "id": "cb4ecbce",
   "metadata": {},
   "source": [
    "# task 1 (ATM)\n",
    "### make class name bank and save the account number private\n",
    "### address\n",
    "### method and uske andr total balance"
   ]
  },
  {
   "cell_type": "code",
   "execution_count": 25,
   "id": "d25fb4af",
   "metadata": {},
   "outputs": [],
   "source": [
    "class Bank:\n",
    "    __accountNumber=123456789\n",
    "    customerName=\"Rahul\"\n",
    "    address=\"Pali\"\n",
    "    phoneNo=\"987654321\"\n",
    "    def totalBalance(self):\n",
    "        self.balance=int(input(\"Enter your total balance: \"))\n",
    "        print(f\"Your total balance is: {self.balance}\")\n",
    "        print(f\"Your account number is: {self.__accountNumber}\")\n",
    "id=Bank()"
   ]
  },
  {
   "cell_type": "code",
   "execution_count": 26,
   "id": "05e081d1",
   "metadata": {},
   "outputs": [
    {
     "name": "stdout",
     "output_type": "stream",
     "text": [
      "your name is  Rahul\n",
      "your address is  Pali\n",
      "your phone number is  987654321\n"
     ]
    },
    {
     "name": "stdout",
     "output_type": "stream",
     "text": [
      "Your total balance is: 111\n",
      "Your account number is: 123456789\n"
     ]
    }
   ],
   "source": [
    "print(\"your name is \",id.customerName)\n",
    "print(\"your address is \",id.address)\n",
    "print(\"your phone number is \",id.phoneNo)\n",
    "id.totalBalance()"
   ]
  },
  {
   "cell_type": "markdown",
   "id": "4318167c",
   "metadata": {},
   "source": [
    "# task 1 >>>> super function\n",
    "# task 2 >>> BMI Calculator (use class)"
   ]
  },
  {
   "cell_type": "code",
   "execution_count": 27,
   "id": "a68470f8",
   "metadata": {},
   "outputs": [],
   "source": [
    "# super function\n",
    "# In Python, the super() function is used to access methods or constructors of a parent (super) class from a child (sub) class. \n",
    "# It plays an important role in inheritance, especially when dealing with method overriding and multiple inheritance."
   ]
  },
  {
   "cell_type": "code",
   "execution_count": 28,
   "id": "f555efec",
   "metadata": {},
   "outputs": [
    {
     "data": {
      "text/plain": [
       "<__main__.Student at 0x2a59ef89a10>"
      ]
     },
     "execution_count": 28,
     "metadata": {},
     "output_type": "execute_result"
    }
   ],
   "source": [
    "# constructor\n",
    "# init method\n",
    "# __init__ method\n",
    "\n",
    "class Student:\n",
    "    def __init__(self):\n",
    "        pass\n",
    "Student()\n"
   ]
  },
  {
   "cell_type": "code",
   "execution_count": 29,
   "id": "ee3ad697",
   "metadata": {},
   "outputs": [
    {
     "data": {
      "text/plain": [
       "'Rahul'"
      ]
     },
     "execution_count": 29,
     "metadata": {},
     "output_type": "execute_result"
    }
   ],
   "source": [
    "class Student:\n",
    "    def __init__(self, name, age):\n",
    "        self.name = name  #instance variable\n",
    "        self.age = age  #instance variable\n",
    "\n",
    "s1=Student(\"Rahul\",age= 20)\n",
    "s1.name"
   ]
  },
  {
   "cell_type": "code",
   "execution_count": 30,
   "id": "bcd34936",
   "metadata": {},
   "outputs": [
    {
     "data": {
      "text/plain": [
       "20"
      ]
     },
     "execution_count": 30,
     "metadata": {},
     "output_type": "execute_result"
    }
   ],
   "source": [
    "s1.age"
   ]
  },
  {
   "cell_type": "code",
   "execution_count": 31,
   "id": "94bd037a",
   "metadata": {},
   "outputs": [
    {
     "name": "stdout",
     "output_type": "stream",
     "text": [
      "Rahul\n",
      "20\n"
     ]
    }
   ],
   "source": [
    "print(s1.name)\n",
    "print(s1.age)"
   ]
  },
  {
   "cell_type": "code",
   "execution_count": 32,
   "id": "e40e708d",
   "metadata": {},
   "outputs": [],
   "source": [
    "class Student:\n",
    "    def __init__(self, name, age,address):\n",
    "        self.name = name  #instance variable\n",
    "        self.age = age  \n",
    "        self.address = address\n",
    "    def display(self):\n",
    "        print(f\"Name: {self.name}, Age: {self.age}, Address: {self.address}\")\n",
    "s1=Student(name=\"Rahul\",age= 20,address=\"Pali\")\n"
   ]
  },
  {
   "cell_type": "code",
   "execution_count": 33,
   "id": "ed15a4a8",
   "metadata": {},
   "outputs": [
    {
     "name": "stdout",
     "output_type": "stream",
     "text": [
      "Name: Rahul, Age: 20, Address: Pali\n"
     ]
    }
   ],
   "source": [
    "s1.display()"
   ]
  },
  {
   "cell_type": "markdown",
   "id": "55557d8e",
   "metadata": {},
   "source": [
    "### class bank\n",
    "### account number private\n",
    "### address\n",
    "### method \n",
    "#### deposite\n",
    "#### withdraw\n",
    "### total balance"
   ]
  },
  {
   "cell_type": "code",
   "execution_count": 36,
   "id": "cb2961a4",
   "metadata": {},
   "outputs": [],
   "source": [
    "class Bank:\n",
    "    def __init__(self, name,age,accountNo,phoneNo,address):\n",
    "        self.name = name\n",
    "        self.age = age\n",
    "        self.__accountNo = accountNo\n",
    "        self.phoneNo = phoneNo\n",
    "        self.address = address\n",
    "    def deposite(self):\n",
    "        self.amount =int(input(\"enter the amount to deposit: \"))\n",
    "        print(f\"deposited amount is {self.amount} to account number {self.__accountNo}\")\n",
    "    def withdraw(self):\n",
    "        self.Wamount =int(input(\"enter the amount to withdraw: \"))\n",
    "        print(\"withdrawn amount is \", self.Wamount)\n",
    "    def totalBalance(self):\n",
    "            print(\"total balance is \" ,self.amount - self.Wamount)\n",
    "\n",
    "b1=Bank(\"Rahul\",\"20\",\"12345678\",\"987654321\",\"Pali\")            "
   ]
  },
  {
   "cell_type": "code",
   "execution_count": 37,
   "id": "769e1494",
   "metadata": {},
   "outputs": [
    {
     "name": "stdout",
     "output_type": "stream",
     "text": [
      "your name is  Rahul\n",
      "your age is  20\n",
      "your phone number is  987654321\n",
      "your address is  Pali\n"
     ]
    },
    {
     "name": "stdout",
     "output_type": "stream",
     "text": [
      "deposited amount is 12 to account number 12345678\n",
      "withdrawn amount is  12\n",
      "total balance is  0\n"
     ]
    }
   ],
   "source": [
    "print(\"your name is \",b1.name)\n",
    "print(\"your age is \",b1.age)\n",
    "print(\"your phone number is \",b1.phoneNo)\n",
    "print(\"your address is \",b1.address) \n",
    "b1.deposite()\n",
    "b1.withdraw()\n",
    "b1.totalBalance()"
   ]
  }
 ],
 "metadata": {
  "kernelspec": {
   "display_name": "Python 3",
   "language": "python",
   "name": "python3"
  },
  "language_info": {
   "codemirror_mode": {
    "name": "ipython",
    "version": 3
   },
   "file_extension": ".py",
   "mimetype": "text/x-python",
   "name": "python",
   "nbconvert_exporter": "python",
   "pygments_lexer": "ipython3",
   "version": "3.11.5"
  }
 },
 "nbformat": 4,
 "nbformat_minor": 5
}
