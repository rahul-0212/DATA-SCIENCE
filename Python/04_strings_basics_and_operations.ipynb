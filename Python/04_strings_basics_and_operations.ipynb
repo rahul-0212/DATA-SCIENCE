{
 "cells": [
  {
   "cell_type": "markdown",
   "id": "c87e5318",
   "metadata": {},
   "source": [
    "\n",
    "# Strings Basics and Operations\n"
   ]
  },
  {
   "cell_type": "code",
   "execution_count": 6,
   "id": "874fe21e",
   "metadata": {},
   "outputs": [
    {
     "name": "stdout",
     "output_type": "stream",
     "text": [
      "Rahul Parihar\n",
      "my name is Rahul Parihar\n",
      "<class 'str'>\n",
      "len of name is 13\n"
     ]
    }
   ],
   "source": [
    "# string and basic operations\n",
    "name = \"Rahul Parihar\"\n",
    "print(name)\n",
    "print(\"my name is\", name)\n",
    "print(type(name))\n",
    "print(\"len of name is\", len(name))"
   ]
  },
  {
   "cell_type": "code",
   "execution_count": 7,
   "id": "5b49af43",
   "metadata": {},
   "outputs": [
    {
     "name": "stdout",
     "output_type": "stream",
     "text": [
      "R\n",
      "h\n",
      "r\n"
     ]
    }
   ],
   "source": [
    "# indexing \n",
    "print(name[0])\n",
    "print(name[2])\n",
    "print(name[len(name)-1])"
   ]
  },
  {
   "cell_type": "code",
   "execution_count": 8,
   "id": "f5804271",
   "metadata": {},
   "outputs": [
    {
     "name": "stdout",
     "output_type": "stream",
     "text": [
      "Rah\n"
     ]
    }
   ],
   "source": [
    "# slicing\n",
    "print(name[0:3])"
   ]
  },
  {
   "cell_type": "code",
   "execution_count": 9,
   "id": "eac437a4",
   "metadata": {},
   "outputs": [
    {
     "name": "stdout",
     "output_type": "stream",
     "text": [
      "rahiraP luhaR\n"
     ]
    }
   ],
   "source": [
    "# reverse string\n",
    "new_name = name[::-1]\n",
    "print(new_name)"
   ]
  },
  {
   "cell_type": "code",
   "execution_count": 10,
   "id": "7668eca0",
   "metadata": {},
   "outputs": [
    {
     "name": "stdout",
     "output_type": "stream",
     "text": [
      "RAHUL\n",
      "parihar\n",
      "0\n",
      "Rahul\n",
      "Rahul\n",
      "RahulParihar\n",
      "Rahul Parihar\n"
     ]
    }
   ],
   "source": [
    "# operations\n",
    "name = \"Rahul\"\n",
    "last = \"Parihar\"\n",
    "print(name.upper())\n",
    "print(last.lower())\n",
    "print(name.count(\"s\"))\n",
    "print(name.title())\n",
    "print(name.capitalize())\n",
    "print(name + last)\n",
    "print(name + \" \" + last)"
   ]
  }
 ],
 "metadata": {
  "kernelspec": {
   "display_name": "Python 3",
   "language": "python",
   "name": "python3"
  },
  "language_info": {
   "codemirror_mode": {
    "name": "ipython",
    "version": 3
   },
   "file_extension": ".py",
   "mimetype": "text/x-python",
   "name": "python",
   "nbconvert_exporter": "python",
   "pygments_lexer": "ipython3",
   "version": "3.11.5"
  }
 },
 "nbformat": 4,
 "nbformat_minor": 5
}
