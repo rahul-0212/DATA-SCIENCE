{
 "cells": [
  {
   "cell_type": "markdown",
   "id": "6d6235c3",
   "metadata": {},
   "source": [
    "\n",
    "# Dictionary Basics and Methods\n"
   ]
  },
  {
   "cell_type": "code",
   "execution_count": 7,
   "id": "2be52a49",
   "metadata": {},
   "outputs": [
    {
     "name": "stdout",
     "output_type": "stream",
     "text": [
      "my first dictionary  {'name': 'Rahul', 'class': '2rd year', 'roll number': '23EMVCS010', 'address': 'PALI'}\n",
      "length of dictionary  4\n",
      "type of dictionary  <class 'dict'>\n",
      "Rahul\n",
      "2rd year\n",
      "23EMVCS010\n",
      "PALI\n"
     ]
    }
   ],
   "source": [
    "# Dictionary Basics and Methods\n",
    "my_dict = {\"name\": \"Rahul\", \"class\": \"2rd year\", \"roll number\": \"23EMVCS010\", \"address\": \"PALI\"}    \n",
    "print(\"my first dictionary \", my_dict)\n",
    "print(\"length of dictionary \", len(my_dict))\n",
    "print(\"type of dictionary \", type(my_dict))\n",
    "print(my_dict['name'])\n",
    "print(my_dict['class'])\n",
    "print(my_dict['roll number'])\n",
    "print(my_dict['address'])"
   ]
  },
  {
   "cell_type": "code",
   "execution_count": 8,
   "id": "16082e8b",
   "metadata": {},
   "outputs": [
    {
     "name": "stdout",
     "output_type": "stream",
     "text": [
      "{'name': 'Rahul', 'class': '2rd year', 'roll number': '23EMVCS010', 'address': 'Pali'}\n",
      "{'name': 'Manoj', 'class': '2rd year', 'roll number': '23EMVCS010', 'address': 'Pali'}\n",
      "{'name': 'Manoj', 'class': '2rd year', 'roll number': '23EMVCS010', 'address': 'Pali', 'branch': 'CSE', 'age': '22'}\n"
     ]
    }
   ],
   "source": [
    "# Adding new key-value pairs\n",
    "my_dict['address'] = \"Pali\"\n",
    "print(my_dict)\n",
    "my_dict['name'] = \"Manoj\" \n",
    "print(my_dict)\n",
    "my_dict['branch'] = \"civil\"\n",
    "my_dict.update({'age': '22'})\n",
    "my_dict.update({'branch': 'CSE'})\n",
    "print(my_dict)"
   ]
  },
  {
   "cell_type": "code",
   "execution_count": 9,
   "id": "400fb92b",
   "metadata": {},
   "outputs": [
    {
     "name": "stdout",
     "output_type": "stream",
     "text": [
      "Manoj\n",
      "CSE\n",
      "22\n",
      "Pali\n",
      "23EMVCS010\n"
     ]
    }
   ],
   "source": [
    "# Accessing values using get method\n",
    "print(my_dict.get(\"name\"))\n",
    "print(my_dict.get(\"branch\"))\n",
    "print(my_dict.get(\"age\"))\n",
    "print(my_dict.get(\"address\"))\n",
    "print(my_dict.get(\"roll number\"))"
   ]
  },
  {
   "cell_type": "code",
   "execution_count": null,
   "id": "63f7459d",
   "metadata": {},
   "outputs": [
    {
     "name": "stdout",
     "output_type": "stream",
     "text": [
      "Manoj\n",
      "CSE\n",
      "22\n",
      "Pali\n",
      "23EMVCS010\n"
     ]
    }
   ],
   "source": [
    "# access using [] operator\n",
    "print(my_dict[\"name\"]) # Manoj\n",
    "print(my_dict[\"branch\"]) # CSE\n",
    "print(my_dict[\"age\"]) # 22\n",
    "print(my_dict[\"address\"]) # Pali\n",
    "print(my_dict[\"roll number\"]) # 23EMVCS010"
   ]
  },
  {
   "cell_type": "code",
   "execution_count": 11,
   "id": "af5554df",
   "metadata": {},
   "outputs": [
    {
     "name": "stdout",
     "output_type": "stream",
     "text": [
      "these are keys  dict_keys(['name', 'class', 'roll number', 'address', 'branch', 'age'])\n",
      "these are values dict_values(['Manoj', '2rd year', '23EMVCS010', 'Pali', 'CSE', '22'])\n",
      "these are items  dict_items([('name', 'Manoj'), ('class', '2rd year'), ('roll number', '23EMVCS010'), ('address', 'Pali'), ('branch', 'CSE'), ('age', '22')])\n"
     ]
    }
   ],
   "source": [
    "# Accessing keys, values, and items\n",
    "print(\"these are keys \", my_dict.keys())\n",
    "print(\"these are values\", my_dict.values())\n",
    "print(\"these are items \", my_dict.items())"
   ]
  },
  {
   "cell_type": "code",
   "execution_count": 12,
   "id": "290b1df8",
   "metadata": {},
   "outputs": [
    {
     "name": "stdout",
     "output_type": "stream",
     "text": [
      "copied dictionary  {'name': 'Manoj', 'class': '2rd year', 'roll number': '23EMVCS010', 'address': 'Pali', 'branch': 'CSE', 'age': '22'}\n",
      "None\n"
     ]
    }
   ],
   "source": [
    "# copying and clearing dictionary\n",
    "cpyDict = my_dict.copy()\n",
    "print(\"copied dictionary \", cpyDict)\n",
    "print(my_dict.clear())"
   ]
  }
 ],
 "metadata": {
  "kernelspec": {
   "display_name": "Python 3",
   "language": "python",
   "name": "python3"
  },
  "language_info": {
   "codemirror_mode": {
    "name": "ipython",
    "version": 3
   },
   "file_extension": ".py",
   "mimetype": "text/x-python",
   "name": "python",
   "nbconvert_exporter": "python",
   "pygments_lexer": "ipython3",
   "version": "3.11.5"
  }
 },
 "nbformat": 4,
 "nbformat_minor": 5
}
