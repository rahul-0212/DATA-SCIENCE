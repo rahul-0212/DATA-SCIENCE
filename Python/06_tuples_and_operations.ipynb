{
 "cells": [
  {
   "cell_type": "markdown",
   "id": "03f91fb3",
   "metadata": {},
   "source": [
    "# Tuples and Operations\n"
   ]
  },
  {
   "cell_type": "code",
   "execution_count": 5,
   "id": "dc8e7dcd",
   "metadata": {},
   "outputs": [
    {
     "name": "stdout",
     "output_type": "stream",
     "text": [
      "my first tuple -  (1, 2, 3, 4, 5, 585, 5, 'Rahul', 2.3)\n",
      "length of the tuple -  9\n",
      "type of the tuple -  <class 'tuple'>\n",
      "1\n",
      "3\n",
      "(1, 2, 3, 4, 5, 585)\n",
      "2\n"
     ]
    }
   ],
   "source": [
    "# Tuples and Operations\n",
    "tpl = (1,2,3,4,5,585,5,\"Rahul\",2.3)\n",
    "print(\"my first tuple - \", tpl)\n",
    "print(\"length of the tuple - \", len(tpl))\n",
    "print(\"type of the tuple - \", type(tpl))\n",
    "print(tpl[0])\n",
    "print(tpl[2])\n",
    "print(tpl[0:6])\n",
    "print(tpl.count(5))"
   ]
  },
  {
   "cell_type": "markdown",
   "id": "889ec69c",
   "metadata": {},
   "source": [
    "# task"
   ]
  },
  {
   "cell_type": "code",
   "execution_count": 6,
   "id": "edca14b4",
   "metadata": {},
   "outputs": [
    {
     "name": "stdout",
     "output_type": "stream",
     "text": [
      "(1, 2, 3, 4, 49, 40, 99)\n",
      "<class 'tuple'>\n",
      "7\n"
     ]
    }
   ],
   "source": [
    "a = 1,2,3,4,49,40,99\n",
    "print(a)\n",
    "print(type(a))\n",
    "print(len(a))"
   ]
  },
  {
   "cell_type": "code",
   "execution_count": 7,
   "id": "15ef9fb8",
   "metadata": {},
   "outputs": [
    {
     "name": "stdout",
     "output_type": "stream",
     "text": [
      "tuple unpacking\n",
      "1\n",
      "2\n",
      "3\n"
     ]
    }
   ],
   "source": [
    "# tuple unpacking\n",
    "a, b, c = 1, 2, 3\n",
    "print(\"tuple unpacking\")\n",
    "print(a)\n",
    "print(b)\n",
    "print(c)"
   ]
  },
  {
   "cell_type": "code",
   "execution_count": 8,
   "id": "f1c97f78",
   "metadata": {},
   "outputs": [
    {
     "name": "stdout",
     "output_type": "stream",
     "text": [
      "max of the tuple is  7\n",
      "min of the tuple is  1\n",
      "sum of the tuple is  28\n"
     ]
    }
   ],
   "source": [
    "# tuple operations\n",
    "# max, min, sum\n",
    "tepl = (1,2,3,4,5,6,7)\n",
    "print(\"max of the tuple is \", max(tepl))\n",
    "print(\"min of the tuple is \", min(tepl))\n",
    "print(\"sum of the tuple is \", sum(tepl))"
   ]
  }
 ],
 "metadata": {
  "kernelspec": {
   "display_name": "Python 3",
   "language": "python",
   "name": "python3"
  },
  "language_info": {
   "codemirror_mode": {
    "name": "ipython",
    "version": 3
   },
   "file_extension": ".py",
   "mimetype": "text/x-python",
   "name": "python",
   "nbconvert_exporter": "python",
   "pygments_lexer": "ipython3",
   "version": "3.11.5"
  }
 },
 "nbformat": 4,
 "nbformat_minor": 5
}
